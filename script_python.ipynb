{
 "cells": [
  {
   "cell_type": "markdown",
   "id": "1ce62c7c-7539-44ea-a72a-946523230fbc",
   "metadata": {},
   "source": [
    "# script python KPB\n",
    "## 5/15/25"
   ]
  },
  {
   "cell_type": "code",
   "execution_count": 1,
   "id": "53efa750-8fac-4f26-8a72-0c3292a787e0",
   "metadata": {},
   "outputs": [
    {
     "data": {
      "text/plain": [
       "23"
      ]
     },
     "execution_count": 1,
     "metadata": {},
     "output_type": "execute_result"
    }
   ],
   "source": [
    "# Python es una calculadora\n",
    "3 + 5 * 4"
   ]
  },
  {
   "cell_type": "code",
   "execution_count": null,
   "id": "e22e6bd1-e43b-4bff-9960-47ea66d2a34c",
   "metadata": {},
   "outputs": [],
   "source": [
    " #Esc + B agrega una célula abajo\r",
    "# Esc + A agrega una celda arriba (Ver presentación)"
   ]
  },
  {
   "cell_type": "code",
   "execution_count": null,
   "id": "48ffb3d0-c23d-49d8-970a-b402108e0836",
   "metadata": {},
   "outputs": [],
   "source": [
    "# asignar valores a una variable\n",
    "peso = 90"
   ]
  },
  {
   "cell_type": "code",
   "execution_count": 11,
   "id": "e9098bbd-c8f5-4695-8180-03b8d27125ef",
   "metadata": {},
   "outputs": [],
   "source": [
    "peso_kg = 60.3"
   ]
  },
  {
   "cell_type": "code",
   "execution_count": 13,
   "id": "a211e8cd-e60b-4baf-8d98-3d1465893d90",
   "metadata": {},
   "outputs": [],
   "source": [
    "paciente_id = '001' #  las comillas definen a una variable como texto"
   ]
  },
  {
   "cell_type": "code",
   "execution_count": 15,
   "id": "b4bd6f5e-8b69-4678-90c6-d48819064fe0",
   "metadata": {},
   "outputs": [],
   "source": [
    "peso_lb = 2.2 * peso_kg"
   ]
  },
  {
   "cell_type": "code",
   "execution_count": 17,
   "id": "8108eb05-69ac-47e9-b3a6-0e03a5315f56",
   "metadata": {},
   "outputs": [
    {
     "name": "stdout",
     "output_type": "stream",
     "text": [
      "132.66\n"
     ]
    }
   ],
   "source": [
    "print(peso_lb)"
   ]
  },
  {
   "cell_type": "code",
   "execution_count": 19,
   "id": "b4cf42b2-0431-4631-841f-b8ea5a3f6c8f",
   "metadata": {},
   "outputs": [
    {
     "name": "stdout",
     "output_type": "stream",
     "text": [
      "2\n",
      "3\n"
     ]
    }
   ],
   "source": [
    "# Asignar dos variables al mismo tiempo\n",
    "a, b, = 2, 3\n",
    "print(a)\n",
    "print(b)"
   ]
  },
  {
   "cell_type": "code",
   "execution_count": 21,
   "id": "cef007b2-da77-4c10-8fdd-da50e5fd8482",
   "metadata": {},
   "outputs": [
    {
     "name": "stdout",
     "output_type": "stream",
     "text": [
      "001 peso en kilogramos: 60.3\n"
     ]
    }
   ],
   "source": [
    "print(paciente_id, 'peso en kilogramos:', peso_kg)"
   ]
  },
  {
   "cell_type": "code",
   "execution_count": 23,
   "id": "81625cfc-1b53-40c3-83f0-58f4f9878fb4",
   "metadata": {},
   "outputs": [
    {
     "name": "stdout",
     "output_type": "stream",
     "text": [
      "<class 'float'>\n",
      "<class 'str'>\n",
      "001\n"
     ]
    }
   ],
   "source": [
    "print(type(60.3))\n",
    "print(type(paciente_id))\n",
    "print(paciente_id) #tipos de datos"
   ]
  },
  {
   "cell_type": "markdown",
   "id": "62e0eb35-94c3-4063-85a9-78b7c7c09b2b",
   "metadata": {},
   "source": [
    "## lectura de datos"
   ]
  },
  {
   "cell_type": "code",
   "execution_count": 32,
   "id": "96ab95a6-7e57-451f-b4b2-eba1dd7f327c",
   "metadata": {},
   "outputs": [
    {
     "name": "stdout",
     "output_type": "stream",
     "text": [
      "Requirement already satisfied: netCDF4 in c:\\users\\kpinazob\\anaconda3\\lib\\site-packages (1.7.2)\n",
      "Requirement already satisfied: cftime in c:\\users\\kpinazob\\anaconda3\\lib\\site-packages (from netCDF4) (1.6.4.post1)\n",
      "Requirement already satisfied: certifi in c:\\users\\kpinazob\\anaconda3\\lib\\site-packages (from netCDF4) (2025.4.26)\n",
      "Requirement already satisfied: numpy in c:\\users\\kpinazob\\anaconda3\\lib\\site-packages (from netCDF4) (1.26.4)\n",
      "Note: you may need to restart the kernel to use updated packages.\n"
     ]
    }
   ],
   "source": [
    "#pip install netCDF4 "
   ]
  },
  {
   "cell_type": "code",
   "execution_count": 3,
   "id": "1960b7cd-3926-4ebf-8967-9a92bccaf6b3",
   "metadata": {},
   "outputs": [
    {
     "name": "stderr",
     "output_type": "stream",
     "text": [
      "Matplotlib is building the font cache; this may take a moment.\n"
     ]
    }
   ],
   "source": [
    "import numpy as np # numerical python\n",
    "import netCDF4 as nc\n",
    "import matplotlib.pyplot as plt"
   ]
  },
  {
   "cell_type": "code",
   "execution_count": 5,
   "id": "99b30bac-4ee2-4d5b-aac1-4005c54a8629",
   "metadata": {},
   "outputs": [],
   "source": [
    "masa = 47.5\n",
    "edad =  122\n",
    "masa= masa*2\n",
    "edad = edad-20"
   ]
  },
  {
   "cell_type": "code",
   "execution_count": 7,
   "id": "cb7aaab6-284b-42e3-b86a-507f35de02ba",
   "metadata": {},
   "outputs": [
    {
     "name": "stdout",
     "output_type": "stream",
     "text": [
      "95.0 102\n"
     ]
    }
   ],
   "source": [
    "print(masa, edad)"
   ]
  },
  {
   "cell_type": "code",
   "execution_count": 9,
   "id": "068eac7e-5525-4075-8a47-3e5d530f2431",
   "metadata": {},
   "outputs": [
    {
     "data": {
      "text/plain": [
       "(int, float)"
      ]
     },
     "execution_count": 9,
     "metadata": {},
     "output_type": "execute_result"
    }
   ],
   "source": [
    "type(edad), type(masa)"
   ]
  },
  {
   "cell_type": "code",
   "execution_count": 45,
   "id": "05f2dc66-c4d3-48d1-8c2d-95a7e5e2ea73",
   "metadata": {},
   "outputs": [
    {
     "name": "stdout",
     "output_type": "stream",
     "text": [
      "t\n",
      "n\n",
      "Pinazo\n",
      "Kris\n"
     ]
    }
   ],
   "source": [
    "name = \"Kristhian Pinazo\" \n",
    "print(name[4])\n",
    "print(name[-4])\n",
    "print(name[-6:])\n",
    "print(name[:4])"
   ]
  },
  {
   "cell_type": "code",
   "execution_count": 25,
   "id": "6f9a3d9a-b9b0-44f2-8710-88ba21a804eb",
   "metadata": {},
   "outputs": [
    {
     "data": {
      "text/plain": [
       "str"
      ]
     },
     "execution_count": 25,
     "metadata": {},
     "output_type": "execute_result"
    }
   ],
   "source": [
    "type(name)"
   ]
  },
  {
   "cell_type": "code",
   "execution_count": 27,
   "id": "e899125e-1d8f-4db5-af01-ffae32746530",
   "metadata": {},
   "outputs": [],
   "source": [
    "a = np.random.normal(size=(15,2,1))"
   ]
  },
  {
   "cell_type": "code",
   "execution_count": 29,
   "id": "f7f4a407-0933-4dcf-b179-927c4ad32773",
   "metadata": {},
   "outputs": [
    {
     "data": {
      "text/plain": [
       "array([[[-0.36385895],\n",
       "        [ 0.47791204]],\n",
       "\n",
       "       [[-1.40562684],\n",
       "        [-1.43728914]],\n",
       "\n",
       "       [[-2.19955352],\n",
       "        [-1.42171835]],\n",
       "\n",
       "       [[ 0.61036732],\n",
       "        [ 0.62404044]],\n",
       "\n",
       "       [[-0.47180581],\n",
       "        [ 2.55539386]],\n",
       "\n",
       "       [[-2.13639274],\n",
       "        [ 0.32017049]],\n",
       "\n",
       "       [[-0.6916525 ],\n",
       "        [-1.15292651]],\n",
       "\n",
       "       [[-1.70858555],\n",
       "        [-0.30950119]],\n",
       "\n",
       "       [[-0.53083393],\n",
       "        [-0.29941986]],\n",
       "\n",
       "       [[-0.66827484],\n",
       "        [ 0.54219484]],\n",
       "\n",
       "       [[-0.12867659],\n",
       "        [-0.49775888]],\n",
       "\n",
       "       [[-0.79005523],\n",
       "        [-0.79118382]],\n",
       "\n",
       "       [[ 0.39425717],\n",
       "        [-0.5782516 ]],\n",
       "\n",
       "       [[ 0.93113903],\n",
       "        [-1.56262536]],\n",
       "\n",
       "       [[ 1.04060139],\n",
       "        [ 0.59370268]]])"
      ]
     },
     "execution_count": 29,
     "metadata": {},
     "output_type": "execute_result"
    }
   ],
   "source": [
    "a\n"
   ]
  },
  {
   "cell_type": "code",
   "execution_count": 47,
   "id": "4daa38a2-2a13-4233-b306-840b085471df",
   "metadata": {},
   "outputs": [],
   "source": [
    "data= [['A','B','C'],['d','e','f'],['g','h','i']]"
   ]
  },
  {
   "cell_type": "code",
   "execution_count": 49,
   "id": "b47680a2-3671-4a48-8246-814840069bb5",
   "metadata": {},
   "outputs": [
    {
     "data": {
      "text/plain": [
       "[['A', 'B', 'C'], ['d', 'e', 'f'], ['g', 'h', 'i']]"
      ]
     },
     "execution_count": 49,
     "metadata": {},
     "output_type": "execute_result"
    }
   ],
   "source": [
    "data"
   ]
  },
  {
   "cell_type": "code",
   "execution_count": 53,
   "id": "0b58868a-33c6-4b7a-9ad9-dca48f9d9ff8",
   "metadata": {},
   "outputs": [],
   "source": [
    "data=np.matrix(data)"
   ]
  },
  {
   "cell_type": "code",
   "execution_count": 55,
   "id": "9f96a8ab-06de-45a2-a596-de8d159253b7",
   "metadata": {},
   "outputs": [
    {
     "data": {
      "text/plain": [
       "matrix([['A', 'B', 'C'],\n",
       "        ['d', 'e', 'f'],\n",
       "        ['g', 'h', 'i']], dtype='<U1')"
      ]
     },
     "execution_count": 55,
     "metadata": {},
     "output_type": "execute_result"
    }
   ],
   "source": [
    "data #matriz cargada en numphy"
   ]
  },
  {
   "cell_type": "code",
   "execution_count": 69,
   "id": "8f50abe1-6b26-4214-ab0a-57d41a15affb",
   "metadata": {},
   "outputs": [
    {
     "data": {
      "text/plain": [
       "(3, 3)"
      ]
     },
     "execution_count": 69,
     "metadata": {},
     "output_type": "execute_result"
    }
   ],
   "source": [
    "np.shape(data)"
   ]
  },
  {
   "cell_type": "code",
   "execution_count": 67,
   "id": "660a3174-e7ac-4635-bb3f-9a695e12039c",
   "metadata": {},
   "outputs": [
    {
     "name": "stdout",
     "output_type": "stream",
     "text": [
      "[['A' 'B' 'C']\n",
      " ['d' 'e' 'f']\n",
      " ['g' 'h' 'i']]\n",
      "f\n"
     ]
    }
   ],
   "source": [
    "print(data[:,:])#imprime todos los elemntos de la matriz\n",
    "print(data[1,2])"
   ]
  },
  {
   "cell_type": "code",
   "execution_count": 71,
   "id": "294d233a-de02-41f1-b00a-c3bee95b2c67",
   "metadata": {},
   "outputs": [],
   "source": [
    "data_n= [[1,2,3],[4,5,6],[7,8,9]]"
   ]
  },
  {
   "cell_type": "code",
   "execution_count": 77,
   "id": "d69a45c6-d647-4158-8605-d41b64b64bb2",
   "metadata": {},
   "outputs": [
    {
     "name": "stdout",
     "output_type": "stream",
     "text": [
      "9\n"
     ]
    }
   ],
   "source": [
    "data_n=np.matrix(data_n)\n",
    "print(data_n[2,2])\n"
   ]
  },
  {
   "cell_type": "code",
   "execution_count": null,
   "id": "c234e9b0-7bdd-450a-8436-808d53946bac",
   "metadata": {},
   "outputs": [],
   "source": [
    "np.max(data_n, axis=0) #filas"
   ]
  },
  {
   "cell_type": "code",
   "execution_count": 84,
   "id": "9d6219d6-f511-408b-993e-177eea06fa81",
   "metadata": {},
   "outputs": [
    {
     "data": {
      "text/plain": [
       "matrix([[3],\n",
       "        [6],\n",
       "        [9]])"
      ]
     },
     "execution_count": 84,
     "metadata": {},
     "output_type": "execute_result"
    }
   ],
   "source": [
    "np.max(data_n) #maximo de matriz\n",
    "\n"
   ]
  },
  {
   "cell_type": "code",
   "execution_count": null,
   "id": "63ab83ca-445e-4331-b79f-c959c9b2bbcc",
   "metadata": {},
   "outputs": [],
   "source": [
    "np.max(data_n,axis=1) #columnas"
   ]
  },
  {
   "cell_type": "code",
   "execution_count": 88,
   "id": "1da42c3e-97a1-49ba-bf07-24bd00df7259",
   "metadata": {},
   "outputs": [
    {
     "data": {
      "text/plain": [
       "5.0"
      ]
     },
     "execution_count": 88,
     "metadata": {},
     "output_type": "execute_result"
    }
   ],
   "source": [
    "np.mean(data_n)"
   ]
  },
  {
   "cell_type": "code",
   "execution_count": 92,
   "id": "78f816db-3212-405a-a0f1-1913b1744d1e",
   "metadata": {},
   "outputs": [
    {
     "name": "stdout",
     "output_type": "stream",
     "text": [
      "1 is not greater than 5\n",
      "done\n"
     ]
    }
   ],
   "source": [
    "num=np.min(data_n)\n",
    "if num>=5:\n",
    "    print(str(num), 'is greater than 5')\n",
    "else:\n",
    "    print(str(num), 'is not greater than 5')\n",
    "print('done')"
   ]
  },
  {
   "cell_type": "code",
   "execution_count": 106,
   "id": "570f91af-01d2-48f8-a543-eb3455b4e10c",
   "metadata": {},
   "outputs": [
    {
     "data": {
      "text/plain": [
       "Text(0.5, 1.0, 'Figura de prueba')"
      ]
     },
     "execution_count": 106,
     "metadata": {},
     "output_type": "execute_result"
    },
    {
     "data": {
      "image/png": "[encoded data removed]",
      "text/plain": [
       "<Figure size 640x480 with 1 Axes>"
      ]
     },
     "metadata": {},
     "output_type": "display_data"
    }
   ],
   "source": [
    "#graficamos\n",
    "fig, ax=plt.subplots()\n",
    "ax=plt.plot(a[0,:],color='tomato',linewidth='1.5',linestyle='dashed')\n",
    "plt.xlabel('axis x')\n",
    "plt.ylabel('axis y')\n",
    "plt.title('Figura de prueba',)\n"
   ]
  },
  {
   "cell_type": "code",
   "execution_count": 108,
   "id": "9e9edc91-26dc-4f99-91f4-2fb615e642be",
   "metadata": {},
   "outputs": [
    {
     "name": "stdout",
     "output_type": "stream",
     "text": [
      "No variables match your requested type.\n"
     ]
    }
   ],
   "source": [
    "\n",
    "%whos #muestra todas las variables definidas"
   ]
  },
  {
   "cell_type": "code",
   "execution_count": 110,
   "id": "8482e6fa-930b-403f-a5ee-06687b35755f",
   "metadata": {},
   "outputs": [],
   "source": [
    "x = np.arange(0, 10, 0.1)\n",
    "y = np.sin(x)"
   ]
  },
  {
   "cell_type": "code",
   "execution_count": 112,
   "id": "b4546beb-e735-43ee-84cf-b27f3657514d",
   "metadata": {},
   "outputs": [
    {
     "data": {
      "text/plain": [
       "array([0. , 0.1, 0.2, 0.3, 0.4, 0.5, 0.6, 0.7, 0.8, 0.9, 1. , 1.1, 1.2,\n",
       "       1.3, 1.4, 1.5, 1.6, 1.7, 1.8, 1.9, 2. , 2.1, 2.2, 2.3, 2.4, 2.5,\n",
       "       2.6, 2.7, 2.8, 2.9, 3. , 3.1, 3.2, 3.3, 3.4, 3.5, 3.6, 3.7, 3.8,\n",
       "       3.9, 4. , 4.1, 4.2, 4.3, 4.4, 4.5, 4.6, 4.7, 4.8, 4.9, 5. , 5.1,\n",
       "       5.2, 5.3, 5.4, 5.5, 5.6, 5.7, 5.8, 5.9, 6. , 6.1, 6.2, 6.3, 6.4,\n",
       "       6.5, 6.6, 6.7, 6.8, 6.9, 7. , 7.1, 7.2, 7.3, 7.4, 7.5, 7.6, 7.7,\n",
       "       7.8, 7.9, 8. , 8.1, 8.2, 8.3, 8.4, 8.5, 8.6, 8.7, 8.8, 8.9, 9. ,\n",
       "       9.1, 9.2, 9.3, 9.4, 9.5, 9.6, 9.7, 9.8, 9.9])"
      ]
     },
     "execution_count": 112,
     "metadata": {},
     "output_type": "execute_result"
    }
   ],
   "source": [
    "x"
   ]
  },
  {
   "cell_type": "code",
   "execution_count": 114,
   "id": "fabc2d04-be60-4ef8-99b2-21cc66f4e50a",
   "metadata": {},
   "outputs": [
    {
     "name": "stdout",
     "output_type": "stream",
     "text": [
      "[0.         0.09983342 0.19866933]\n"
     ]
    }
   ],
   "source": [
    "print(y[:3])"
   ]
  },
  {
   "cell_type": "code",
   "execution_count": 116,
   "id": "b9d7468b-6ad4-4312-aace-8fc3a1c0ac17",
   "metadata": {},
   "outputs": [
    {
     "data": {
      "image/png": "[encoded data removed]",
      "text/plain": [
       "<Figure size 500x200 with 1 Axes>"
      ]
     },
     "metadata": {},
     "output_type": "display_data"
    }
   ],
   "source": [
    "plt.figure(figsize=(5,2))\n",
    "plt.plot(x, y, color='green', marker='o', markersize=3)\n",
    "plt.xlabel('Ángulo (radián)')\n",
    "plt.ylabel('seno(x)')\n",
    "plt.show()"
   ]
  },
  {
   "cell_type": "code",
   "execution_count": null,
   "id": "c0697d9f-3608-430f-bce9-778016b7981a",
   "metadata": {},
   "outputs": [],
   "source": []
  }
 ],
 "metadata": {
  "kernelspec": {
   "display_name": "Python 3 (ipykernel)",
   "language": "python",
   "name": "python3"
  },
  "language_info": {
   "codemirror_mode": {
    "name": "ipython",
    "version": 3
   },
   "file_extension": ".py",
   "mimetype": "text/x-python",
   "name": "python",
   "nbconvert_exporter": "python",
   "pygments_lexer": "ipython3",
   "version": "3.12.4"
  }
 },
 "nbformat": 4,
 "nbformat_minor": 5
}
